{
 "cells": [
  {
   "cell_type": "code",
   "execution_count": 13,
   "metadata": {},
   "outputs": [
    {
     "name": "stdout",
     "output_type": "stream",
     "text": [
      "env: AWS_ACCESS_KEY_ID=minio\n",
      "env: AWS_SECRET_ACCESS_KEY=minio123\n",
      "env: MLFLOW_S3_ENDPOINT_URL=http://localhost:9000\n"
     ]
    }
   ],
   "source": [
    "# Para que funciones, todos nuestros scripts debemos exportar las siguientes variables de entorno\n",
    "%env AWS_ACCESS_KEY_ID=minio   \n",
    "%env AWS_SECRET_ACCESS_KEY=minio123 \n",
    "%env MLFLOW_S3_ENDPOINT_URL=http://localhost:9000"
   ]
  },
  {
   "cell_type": "code",
   "execution_count": 14,
   "metadata": {},
   "outputs": [
    {
     "name": "stdout",
     "output_type": "stream",
     "text": [
      "$AWS_ACCESS_KEY_ID\n",
      "$AWS_SECRET_ACCESS_KEY\n",
      "$MLFLOW_S3_ENDPOINT_URL\n"
     ]
    }
   ],
   "source": [
    "!echo $AWS_ACCESS_KEY_ID\n",
    "!echo $AWS_SECRET_ACCESS_KEY\n",
    "!echo $MLFLOW_S3_ENDPOINT_URL"
   ]
  },
  {
   "cell_type": "code",
   "execution_count": 17,
   "metadata": {},
   "outputs": [],
   "source": [
    "import mlflow\n",
    "from sklearn.datasets import load_diabetes\n",
    "from sklearn.model_selection import train_test_split\n",
    "from sklearn.ensemble import RandomForestRegressor\n",
    "import pandas as pd\n",
    "\n",
    "mlflow.set_tracking_uri('http://localhost:5000') \n",
    "\n",
    "# set the experiment id\n",
    "experiment_name = \"test_experiment\"\n",
    "\n"
   ]
  },
  {
   "cell_type": "code",
   "execution_count": 19,
   "metadata": {},
   "outputs": [
    {
     "name": "stderr",
     "output_type": "stream",
     "text": [
      "2024/10/15 14:48:49 INFO mlflow.tracking.fluent: Autologging successfully enabled for sklearn.\n",
      "2024/10/15 14:48:50 INFO mlflow.utils.autologging_utils: Created MLflow autologging run with ID 'bc9f7e0f2b4e4ce1b530865cd84bb867', which will track hyperparameters, performance metrics, model artifacts, and lineage information for the current sklearn workflow\n",
      "2024/10/15 14:48:54 INFO mlflow.tracking._tracking_service.client: 🏃 View run tasteful-yak-304 at: http://localhost:5000/#/experiments/1/runs/bc9f7e0f2b4e4ce1b530865cd84bb867.\n",
      "2024/10/15 14:48:54 INFO mlflow.tracking._tracking_service.client: 🧪 View experiment at: http://localhost:5000/#/experiments/1.\n"
     ]
    },
    {
     "name": "stdout",
     "output_type": "stream",
     "text": [
      "[151.4530967  187.52706831  93.15681646 230.12252914 237.89387323\n",
      " 238.99276017 119.28431144 171.36059962 164.97426151 104.39581847\n",
      " 119.37560644 243.72589514 248.95680972 180.47927227 165.24663924\n",
      " 276.51337918 114.49385487  89.25915294 167.69484029 209.47297454\n",
      " 125.80899868 234.03412304 116.54270103 151.14226092  91.43824102\n",
      " 246.61480847 126.10380308  83.6701836   91.73780458 186.37906511\n",
      " 191.00525971 126.52122841 132.91667275 152.22211892 259.01290629\n",
      " 195.02973822 126.39551453 130.39211132 258.04674041 236.58494919\n",
      " 219.20336288 101.04775627 172.37206647  94.7955053  208.51150844\n",
      " 139.58067065 254.11072551 143.08917151  97.54279036 201.64378178\n",
      "  95.6549469  202.7388028   84.43874745 164.20708945  96.25002194\n",
      " 159.09253438 164.84802342  84.73821511 178.69328684 155.85553147\n",
      " 185.02854118 146.58283686 142.92164339 164.11615497 187.74443938\n",
      " 161.19150622  88.95188274 155.980513   205.48257445 119.0664939\n",
      " 148.81436462  97.14470439 222.21524232  94.20217646 114.46747704\n",
      " 189.81697952  92.83438378 228.97862091 218.93624965 105.01961517\n",
      " 183.93626731 146.22395597 111.75728654 198.91210693 244.60806571\n",
      " 108.01068727 134.98980574 187.02259545  93.73627572 142.10710951\n",
      " 100.99232283 143.32294933 206.76003885 233.75022011 141.82625926\n",
      "  94.25961108 116.83277289 209.67793067 191.25901555  98.26559313\n",
      " 108.85203404 123.91571316 246.15903255 166.6000235  199.05447945\n",
      " 103.34741733 209.40858295  99.26160595 100.97645126 189.97317998\n",
      " 113.59888559]\n"
     ]
    }
   ],
   "source": [
    "#Esta línea configura el nombre del experimento en MLflow. Si el experimento con el nombre experiment_name no existe, MLflow lo creará.\n",
    "mlflow.set_experiment(experiment_name)\n",
    "\n",
    "mlflow.autolog()\n",
    "\n",
    "#Esta línea carga el conjunto de datos de diabetes de sklearn.datasets\n",
    "db = load_diabetes()\n",
    "\n",
    "X_train, X_test, y_train, y_test = train_test_split(db.data, db.target)\n",
    "\n",
    "# Create and train models.\n",
    "rf = RandomForestRegressor(n_estimators=100, max_depth=6, max_features=3)\n",
    "rf.fit(X_train, y_train)\n",
    "\n",
    "# Use the model to make predictions on the test dataset.\n",
    "predictions = rf.predict(X_test)\n",
    "\n",
    "# Opción 1: Imprimir las predicciones directamente\n",
    "print(predictions)"
   ]
  }
 ],
 "metadata": {
  "kernelspec": {
   "display_name": "Python 3",
   "language": "python",
   "name": "python3"
  },
  "language_info": {
   "codemirror_mode": {
    "name": "ipython",
    "version": 3
   },
   "file_extension": ".py",
   "mimetype": "text/x-python",
   "name": "python",
   "nbconvert_exporter": "python",
   "pygments_lexer": "ipython3",
   "version": "3.10.7"
  }
 },
 "nbformat": 4,
 "nbformat_minor": 2
}
